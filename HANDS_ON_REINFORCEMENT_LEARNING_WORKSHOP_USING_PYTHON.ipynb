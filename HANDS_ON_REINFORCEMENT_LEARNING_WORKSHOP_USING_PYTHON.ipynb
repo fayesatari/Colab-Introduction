{
  "nbformat": 4,
  "nbformat_minor": 0,
  "metadata": {
    "colab": {
      "name": "HANDS-ON REINFORCEMENT LEARNING WORKSHOP USING PYTHON.ipynb",
      "provenance": [],
      "collapsed_sections": [
        "vUWZnxV_V3r1"
      ],
      "toc_visible": true,
      "include_colab_link": true
    },
    "kernelspec": {
      "name": "python3",
      "display_name": "Python 3"
    }
  },
  "cells": [
    {
      "cell_type": "markdown",
      "metadata": {
        "id": "view-in-github",
        "colab_type": "text"
      },
      "source": [
        "<a href=\"https://colab.research.google.com/github/fayesatari/Colab-Introduction/blob/main/HANDS_ON_REINFORCEMENT_LEARNING_WORKSHOP_USING_PYTHON.ipynb\" target=\"_parent\"><img src=\"https://colab.research.google.com/assets/colab-badge.svg\" alt=\"Open In Colab\"/></a>"
      ]
    },
    {
      "cell_type": "markdown",
      "metadata": {
        "id": "b9dUZROcUSk5"
      },
      "source": [
        "# HANDS-ON REINFORCEMENT LEARNING WORKSHOP USING PYTHON\n",
        "\n",
        "<p>\n",
        "<img alt=\"IEEE Logo\" height=\"100px\" src=\"http://site.ieee.org/montreal-yp/files/2017/08/yp-logo.png\" align=\"center\" hspace=\"20\" vspace=\"10px\"> \n",
        "<h1>Welcome to IEEE Young Profecional Montreal Workshop</h1>\n",
        "</p>\n",
        "\n",
        "---"
      ]
    },
    {
      "cell_type": "markdown",
      "metadata": {
        "id": "7jcpp28tVNRE"
      },
      "source": [
        "# Introduction to Colab"
      ]
    },
    {
      "cell_type": "markdown",
      "metadata": {
        "id": "RGR6rxWPo29r"
      },
      "source": [
        "<div>\n",
        "<br/><p><img alt=\"Colaboratory logo\" height=\"45px\" src=\"/img/colab_favicon.ico\" align=\"left\" hspace=\"10px\" vspace=\"0px\">\n",
        "</p>\n",
        "\n",
        "<h1>What is Colaboratory?</h1>\n",
        "<br/></div>\n",
        "\n",
        "\n",
        "\"Colab\" allows you to write and execute Python in your browser, with \n",
        "- Zero configuration required\n",
        "- Free access to GPUs\n",
        "- Easy sharing\n",
        "\n",
        "\n",
        "\n",
        "\n",
        "\n"
      ]
    },
    {
      "cell_type": "markdown",
      "metadata": {
        "id": "JfdXvrGz3sUi"
      },
      "source": [
        "<div>\n",
        "<br/><p><img alt=\"Colaboratory logo\" height=\"45px\" src=\"/img/colab_favicon.ico\" align=\"left\" hspace=\"10px\" vspace=\"0px\"></p>\n",
        "\n",
        "<h1>Get Started</h1>\n",
        "\n",
        "\n",
        "- Search in google\n",
        "- Add from Google Drive\n",
        "- Settings\n",
        "- Them\n",
        "- GPU / TPU\n",
        "\n",
        "   [ GPU vs CPU Example](https://colab.research.google.com/drive/1ugZBGFoMjPh5mkbv2LtcNi9T_tXMOnxu)\n",
        "\n",
        "\n",
        "\n"
      ]
    },
    {
      "cell_type": "markdown",
      "metadata": {
        "id": "ovtuFf3eyp4g"
      },
      "source": [
        "<p><img alt=\"Colaboratory logo\" height=\"45px\" src=\"/img/colab_favicon.ico\" align=\"left\" hspace=\"10px\" vspace=\"0px\"></p>\n",
        "\n",
        "<h1>Text cells</h1>\n",
        "<br/></div>\n",
        "\n",
        "- Text cells use **Markdown** syntax.\n",
        "- You can  add headings, paragraphs, lists, etc.\n",
        "- You can  add math to text cells using [LaTeX](http://www.latex-project.org/)\n",
        "to be rendered by [MathJax](https://www.mathjax.org). Just place the statement\n",
        "within a pair of **\\$** signs.\n",
        "\n",
        " For example:\n",
        "   `$\\sqrt{3x-1}+(1+x)^2$` becomes $\\sqrt{3x-1}+(1+x)^2.$ \n",
        "\n",
        "  \n",
        "\n"
      ]
    },
    {
      "cell_type": "markdown",
      "metadata": {
        "id": "CoLeRljbVh0c"
      },
      "source": [
        "# Mounting Google Drive to Colab"
      ]
    },
    {
      "cell_type": "markdown",
      "metadata": {
        "id": "MGCrh6ldIHBc"
      },
      "source": [
        "<div>\n",
        "<br/><p><img alt=\"Colaboratory logo\" height=\"45px\" src=\"/img/colab_favicon.ico\" align=\"left\" hspace=\"10px\" vspace=\"0px\"></p>\n",
        "\n",
        "<h1>Save / Share</h1>\n",
        "<br/></div>\n",
        "\n",
        "- **Share** Link/Email.\n",
        "- Save in **GitHub**\n",
        "- **Export** \"ipynb\" or \"py\" format\n",
        "- Mounting **Google Drive** to colab\n",
        "- **History** revision\n",
        "\n",
        "\n",
        "\n",
        "\n"
      ]
    },
    {
      "cell_type": "markdown",
      "metadata": {
        "id": "vUWZnxV_V3r1"
      },
      "source": [
        "# Working with Libraries in Colab"
      ]
    },
    {
      "cell_type": "markdown",
      "metadata": {
        "id": "ezl4U4QIIEYk"
      },
      "source": [
        "<div>\n",
        "<br/><p><img alt=\"Colaboratory logo\" height=\"45px\" src=\"/img/colab_favicon.ico\" align=\"left\" hspace=\"10px\" vspace=\"0px\"></p>\n",
        "\n",
        "<h1>Code cells</h1>\n",
        "<br/></div>\n",
        "\n",
        "Below is a ***code cell***. Execute in the following ways:\n",
        "\n",
        "* Click the **Play icon** in the left gutter of the cell;\n",
        "* Type **Ctrl+Enter** to run the cell in place;\n",
        "* Type **Shift+Enter** to run the cell and move focus to the next cell (adding one if none exists); \n",
        "* Type **Alt+Enter** to run the cell and insert a new code cell immediately below it.\n",
        "\n",
        "There are additional options for running some or all cells in the **Runtime** menu.\n"
      ]
    },
    {
      "cell_type": "code",
      "metadata": {
        "colab": {
          "base_uri": "https://localhost:8080/"
        },
        "id": "RmCg6_33UiFj",
        "outputId": "e709a271-2a22-4efc-831e-603b0991d228"
      },
      "source": [
        "print(\"hello World!\")"
      ],
      "execution_count": null,
      "outputs": [
        {
          "output_type": "stream",
          "text": [
            "hello World!\n"
          ],
          "name": "stdout"
        }
      ]
    },
    {
      "cell_type": "code",
      "metadata": {
        "colab": {
          "base_uri": "https://localhost:8080/",
          "height": 35
        },
        "id": "UOHQNDRNVLyc",
        "outputId": "3f95c9d1-3d8e-46a8-bf5e-cc6fb73a5d7e"
      },
      "source": [
        "import numpy as np\n",
        "np.__version__"
      ],
      "execution_count": null,
      "outputs": [
        {
          "output_type": "execute_result",
          "data": {
            "application/vnd.google.colaboratory.intrinsic+json": {
              "type": "string"
            },
            "text/plain": [
              "'1.19.5'"
            ]
          },
          "metadata": {
            "tags": []
          },
          "execution_count": 5
        }
      ]
    },
    {
      "cell_type": "code",
      "metadata": {
        "colab": {
          "base_uri": "https://localhost:8080/"
        },
        "id": "TKNQgRjjVtRO",
        "outputId": "945632eb-3315-4547-91dc-f24bbd8aa0fb"
      },
      "source": [
        "!pip freeze"
      ],
      "execution_count": null,
      "outputs": [
        {
          "output_type": "stream",
          "text": [
            "absl-py==0.10.0\n",
            "alabaster==0.7.12\n",
            "albumentations==0.1.12\n",
            "altair==4.1.0\n",
            "appdirs==1.4.4\n",
            "argon2-cffi==20.1.0\n",
            "asgiref==3.3.1\n",
            "astor==0.8.1\n",
            "astropy==4.2\n",
            "astunparse==1.6.3\n",
            "async-generator==1.10\n",
            "atari-py==0.2.6\n",
            "atomicwrites==1.4.0\n",
            "attrs==20.3.0\n",
            "audioread==2.1.9\n",
            "autograd==1.3\n",
            "Babel==2.9.0\n",
            "backcall==0.2.0\n",
            "beautifulsoup4==4.6.3\n",
            "bleach==3.3.0\n",
            "blis==0.4.1\n",
            "bokeh==2.1.1\n",
            "Bottleneck==1.3.2\n",
            "branca==0.4.2\n",
            "bs4==0.0.1\n",
            "CacheControl==0.12.6\n",
            "cachetools==4.2.1\n",
            "catalogue==1.0.0\n",
            "certifi==2020.12.5\n",
            "cffi==1.14.5\n",
            "chainer==7.4.0\n",
            "chardet==3.0.4\n",
            "click==7.1.2\n",
            "cloudpickle==1.3.0\n",
            "cmake==3.12.0\n",
            "cmdstanpy==0.9.5\n",
            "colorlover==0.3.0\n",
            "community==1.0.0b1\n",
            "contextlib2==0.5.5\n",
            "convertdate==2.3.1\n",
            "coverage==3.7.1\n",
            "coveralls==0.5\n",
            "crcmod==1.7\n",
            "cufflinks==0.17.3\n",
            "cvxopt==1.2.6\n",
            "cvxpy==1.0.31\n",
            "cycler==0.10.0\n",
            "cymem==2.0.5\n",
            "Cython==0.29.22\n",
            "daft==0.0.4\n",
            "dask==2.12.0\n",
            "datascience==0.10.6\n",
            "debugpy==1.0.0\n",
            "decorator==4.4.2\n",
            "defusedxml==0.7.1\n",
            "descartes==1.1.0\n",
            "dill==0.3.3\n",
            "distributed==1.25.3\n",
            "Django==3.1.7\n",
            "dlib==19.18.0\n",
            "dm-tree==0.1.5\n",
            "docopt==0.6.2\n",
            "docutils==0.16\n",
            "dopamine-rl==1.0.5\n",
            "earthengine-api==0.1.255\n",
            "easydict==1.9\n",
            "ecos==2.0.7.post1\n",
            "editdistance==0.5.3\n",
            "en-core-web-sm==2.2.5\n",
            "entrypoints==0.3\n",
            "ephem==3.7.7.1\n",
            "et-xmlfile==1.0.1\n",
            "fa2==0.3.5\n",
            "fancyimpute==0.4.3\n",
            "fastai==1.0.61\n",
            "fastdtw==0.3.4\n",
            "fastprogress==1.0.0\n",
            "fastrlock==0.5\n",
            "fbprophet==0.7.1\n",
            "feather-format==0.4.1\n",
            "filelock==3.0.12\n",
            "firebase-admin==4.4.0\n",
            "fix-yahoo-finance==0.0.22\n",
            "Flask==1.1.2\n",
            "flatbuffers==1.12\n",
            "folium==0.8.3\n",
            "future==0.16.0\n",
            "gast==0.3.3\n",
            "GDAL==2.2.2\n",
            "gdown==3.6.4\n",
            "gensim==3.6.0\n",
            "geographiclib==1.50\n",
            "geopy==1.17.0\n",
            "gin-config==0.4.0\n",
            "glob2==0.7\n",
            "google==2.0.3\n",
            "google-api-core==1.26.1\n",
            "google-api-python-client==1.12.8\n",
            "google-auth==1.27.1\n",
            "google-auth-httplib2==0.0.4\n",
            "google-auth-oauthlib==0.4.3\n",
            "google-cloud-bigquery==1.21.0\n",
            "google-cloud-bigquery-storage==1.1.0\n",
            "google-cloud-core==1.0.3\n",
            "google-cloud-datastore==1.8.0\n",
            "google-cloud-firestore==1.7.0\n",
            "google-cloud-language==1.2.0\n",
            "google-cloud-storage==1.18.1\n",
            "google-cloud-translate==1.5.0\n",
            "google-colab==1.0.0\n",
            "google-pasta==0.2.0\n",
            "google-resumable-media==0.4.1\n",
            "googleapis-common-protos==1.53.0\n",
            "googledrivedownloader==0.4\n",
            "graphviz==0.10.1\n",
            "grpcio==1.32.0\n",
            "gspread==3.0.1\n",
            "gspread-dataframe==3.0.8\n",
            "gym==0.17.3\n",
            "h5py==2.10.0\n",
            "HeapDict==1.0.1\n",
            "hijri-converter==2.1.1\n",
            "holidays==0.10.5.2\n",
            "holoviews==1.13.5\n",
            "html5lib==1.0.1\n",
            "httpimport==0.5.18\n",
            "httplib2==0.17.4\n",
            "httplib2shim==0.0.3\n",
            "humanize==0.5.1\n",
            "hyperopt==0.1.2\n",
            "ideep4py==2.0.0.post3\n",
            "idna==2.10\n",
            "image==1.5.33\n",
            "imageio==2.4.1\n",
            "imagesize==1.2.0\n",
            "imbalanced-learn==0.4.3\n",
            "imblearn==0.0\n",
            "imgaug==0.2.9\n",
            "importlib-metadata==3.7.2\n",
            "importlib-resources==5.1.2\n",
            "imutils==0.5.4\n",
            "inflect==2.1.0\n",
            "iniconfig==1.1.1\n",
            "intel-openmp==2021.1.2\n",
            "intervaltree==2.1.0\n",
            "ipykernel==4.10.1\n",
            "ipython==5.5.0\n",
            "ipython-genutils==0.2.0\n",
            "ipython-sql==0.3.9\n",
            "ipywidgets==7.6.3\n",
            "itsdangerous==1.1.0\n",
            "jax==0.2.10\n",
            "jaxlib==0.1.62+cuda110\n",
            "jdcal==1.4.1\n",
            "jedi==0.18.0\n",
            "jieba==0.42.1\n",
            "Jinja2==2.11.3\n",
            "joblib==1.0.1\n",
            "jpeg4py==0.1.4\n",
            "jsonschema==2.6.0\n",
            "jupyter==1.0.0\n",
            "jupyter-client==5.3.5\n",
            "jupyter-console==5.2.0\n",
            "jupyter-core==4.7.1\n",
            "jupyterlab-pygments==0.1.2\n",
            "jupyterlab-widgets==1.0.0\n",
            "kaggle==1.5.10\n",
            "kapre==0.1.3.1\n",
            "Keras==2.4.3\n",
            "Keras-Preprocessing==1.1.2\n",
            "keras-vis==0.4.1\n",
            "kiwisolver==1.3.1\n",
            "knnimpute==0.1.0\n",
            "korean-lunar-calendar==0.2.1\n",
            "librosa==0.8.0\n",
            "lightgbm==2.2.3\n",
            "llvmlite==0.34.0\n",
            "lmdb==0.99\n",
            "lucid==0.3.8\n",
            "LunarCalendar==0.0.9\n",
            "lxml==4.2.6\n",
            "Markdown==3.3.4\n",
            "MarkupSafe==1.1.1\n",
            "matplotlib==3.2.2\n",
            "matplotlib-venn==0.11.6\n",
            "missingno==0.4.2\n",
            "mistune==0.8.4\n",
            "mizani==0.6.0\n",
            "mkl==2019.0\n",
            "mlxtend==0.14.0\n",
            "more-itertools==8.7.0\n",
            "moviepy==0.2.3.5\n",
            "mpmath==1.2.1\n",
            "msgpack==1.0.2\n",
            "multiprocess==0.70.11.1\n",
            "multitasking==0.0.9\n",
            "murmurhash==1.0.5\n",
            "music21==5.5.0\n",
            "natsort==5.5.0\n",
            "nbclient==0.5.3\n",
            "nbconvert==5.6.1\n",
            "nbformat==5.1.2\n",
            "nest-asyncio==1.5.1\n",
            "networkx==2.5\n",
            "nibabel==3.0.2\n",
            "nltk==3.2.5\n",
            "notebook==5.3.1\n",
            "np-utils==0.5.12.1\n",
            "numba==0.51.2\n",
            "numexpr==2.7.3\n",
            "numpy==1.19.5\n",
            "nvidia-ml-py3==7.352.0\n",
            "oauth2client==4.1.3\n",
            "oauthlib==3.1.0\n",
            "okgrade==0.4.3\n",
            "opencv-contrib-python==4.1.2.30\n",
            "opencv-python==4.1.2.30\n",
            "openpyxl==2.5.9\n",
            "opt-einsum==3.3.0\n",
            "osqp==0.6.2.post0\n",
            "packaging==20.9\n",
            "palettable==3.3.0\n",
            "pandas==1.1.5\n",
            "pandas-datareader==0.9.0\n",
            "pandas-gbq==0.13.3\n",
            "pandas-profiling==1.4.1\n",
            "pandocfilters==1.4.3\n",
            "panel==0.9.7\n",
            "param==1.10.1\n",
            "parso==0.8.1\n",
            "pathlib==1.0.1\n",
            "patsy==0.5.1\n",
            "pexpect==4.8.0\n",
            "pickleshare==0.7.5\n",
            "Pillow==7.0.0\n",
            "pip-tools==4.5.1\n",
            "plac==1.1.3\n",
            "plotly==4.4.1\n",
            "plotnine==0.6.0\n",
            "pluggy==0.7.1\n",
            "pooch==1.3.0\n",
            "portpicker==1.3.1\n",
            "prefetch-generator==1.0.1\n",
            "preshed==3.0.5\n",
            "prettytable==2.1.0\n",
            "progressbar2==3.38.0\n",
            "prometheus-client==0.9.0\n",
            "promise==2.3\n",
            "prompt-toolkit==1.0.18\n",
            "protobuf==3.12.4\n",
            "psutil==5.4.8\n",
            "psycopg2==2.7.6.1\n",
            "ptyprocess==0.7.0\n",
            "py==1.10.0\n",
            "pyarrow==3.0.0\n",
            "pyasn1==0.4.8\n",
            "pyasn1-modules==0.2.8\n",
            "pycocotools==2.0.2\n",
            "pycparser==2.20\n",
            "pyct==0.4.8\n",
            "pydata-google-auth==1.1.0\n",
            "pydot==1.3.0\n",
            "pydot-ng==2.0.0\n",
            "pydotplus==2.0.2\n",
            "PyDrive==1.3.1\n",
            "pyemd==0.5.1\n",
            "pyerfa==1.7.2\n",
            "pyglet==1.5.0\n",
            "Pygments==2.6.1\n",
            "pygobject==3.26.1\n",
            "pymc3==3.7\n",
            "PyMeeus==0.5.9\n",
            "pymongo==3.11.3\n",
            "pymystem3==0.2.0\n",
            "pynndescent==0.5.2\n",
            "PyOpenGL==3.1.5\n",
            "pyparsing==2.4.7\n",
            "pyrsistent==0.17.3\n",
            "pysndfile==1.3.8\n",
            "PySocks==1.7.1\n",
            "pystan==2.19.1.1\n",
            "pytest==3.6.4\n",
            "python-apt==0.0.0\n",
            "python-chess==0.23.11\n",
            "python-dateutil==2.8.1\n",
            "python-louvain==0.15\n",
            "python-slugify==4.0.1\n",
            "python-utils==2.5.6\n",
            "pytz==2018.9\n",
            "pyviz-comms==2.0.1\n",
            "PyWavelets==1.1.1\n",
            "PyYAML==3.13\n",
            "pyzmq==22.0.3\n",
            "qdldl==0.1.5.post0\n",
            "qtconsole==5.0.3\n",
            "QtPy==1.9.0\n",
            "regex==2019.12.20\n",
            "requests==2.23.0\n",
            "requests-oauthlib==1.3.0\n",
            "resampy==0.2.2\n",
            "retrying==1.3.3\n",
            "rpy2==3.4.2\n",
            "rsa==4.7.2\n",
            "scikit-image==0.16.2\n",
            "scikit-learn==0.22.2.post1\n",
            "scipy==1.4.1\n",
            "screen-resolution-extra==0.0.0\n",
            "scs==2.1.2\n",
            "seaborn==0.11.1\n",
            "Send2Trash==1.5.0\n",
            "setuptools-git==1.2\n",
            "Shapely==1.7.1\n",
            "simplegeneric==0.8.1\n",
            "six==1.15.0\n",
            "sklearn==0.0\n",
            "sklearn-pandas==1.8.0\n",
            "smart-open==4.2.0\n",
            "snowballstemmer==2.1.0\n",
            "sortedcontainers==2.3.0\n",
            "SoundFile==0.10.3.post1\n",
            "spacy==2.2.4\n",
            "Sphinx==1.8.5\n",
            "sphinxcontrib-serializinghtml==1.1.4\n",
            "sphinxcontrib-websupport==1.2.4\n",
            "SQLAlchemy==1.3.23\n",
            "sqlparse==0.4.1\n",
            "srsly==1.0.5\n",
            "statsmodels==0.10.2\n",
            "sympy==1.7.1\n",
            "tables==3.4.4\n",
            "tabulate==0.8.9\n",
            "tblib==1.7.0\n",
            "tensorboard==2.4.1\n",
            "tensorboard-plugin-wit==1.8.0\n",
            "tensorflow==2.4.1\n",
            "tensorflow-datasets==4.0.1\n",
            "tensorflow-estimator==2.4.0\n",
            "tensorflow-gcs-config==2.4.0\n",
            "tensorflow-hub==0.11.0\n",
            "tensorflow-metadata==0.28.0\n",
            "tensorflow-probability==0.12.1\n",
            "termcolor==1.1.0\n",
            "terminado==0.9.2\n",
            "testpath==0.4.4\n",
            "text-unidecode==1.3\n",
            "textblob==0.15.3\n",
            "textgenrnn==1.4.1\n",
            "Theano==1.0.5\n",
            "thinc==7.4.0\n",
            "tifffile==2021.3.17\n",
            "toml==0.10.2\n",
            "toolz==0.11.1\n",
            "torch==1.8.0+cu101\n",
            "torchsummary==1.5.1\n",
            "torchtext==0.9.0\n",
            "torchvision==0.9.0+cu101\n",
            "tornado==5.1.1\n",
            "tqdm==4.41.1\n",
            "traitlets==5.0.5\n",
            "tweepy==3.10.0\n",
            "typeguard==2.7.1\n",
            "typing-extensions==3.7.4.3\n",
            "tzlocal==1.5.1\n",
            "umap-learn==0.5.1\n",
            "uritemplate==3.0.1\n",
            "urllib3==1.24.3\n",
            "vega-datasets==0.9.0\n",
            "wasabi==0.8.2\n",
            "wcwidth==0.2.5\n",
            "webencodings==0.5.1\n",
            "Werkzeug==1.0.1\n",
            "widgetsnbextension==3.5.1\n",
            "wordcloud==1.5.0\n",
            "wrapt==1.12.1\n",
            "xarray==0.15.1\n",
            "xgboost==0.90\n",
            "xkit==0.0.0\n",
            "xlrd==1.1.0\n",
            "xlwt==1.3.0\n",
            "yellowbrick==0.9.1\n",
            "zict==2.0.0\n",
            "zipp==3.4.1\n"
          ],
          "name": "stdout"
        }
      ]
    },
    {
      "cell_type": "code",
      "metadata": {
        "colab": {
          "base_uri": "https://localhost:8080/"
        },
        "id": "qcdnviXOV1-E",
        "outputId": "66979b6b-aef9-4d32-c2ff-613ffb81e7b3"
      },
      "source": [
        "import pandas\n",
        "dir(pandas)"
      ],
      "execution_count": null,
      "outputs": [
        {
          "output_type": "execute_result",
          "data": {
            "text/plain": [
              "['BooleanDtype',\n",
              " 'Categorical',\n",
              " 'CategoricalDtype',\n",
              " 'CategoricalIndex',\n",
              " 'DataFrame',\n",
              " 'DateOffset',\n",
              " 'DatetimeIndex',\n",
              " 'DatetimeTZDtype',\n",
              " 'ExcelFile',\n",
              " 'ExcelWriter',\n",
              " 'Float64Index',\n",
              " 'Grouper',\n",
              " 'HDFStore',\n",
              " 'Index',\n",
              " 'IndexSlice',\n",
              " 'Int16Dtype',\n",
              " 'Int32Dtype',\n",
              " 'Int64Dtype',\n",
              " 'Int64Index',\n",
              " 'Int8Dtype',\n",
              " 'Interval',\n",
              " 'IntervalDtype',\n",
              " 'IntervalIndex',\n",
              " 'MultiIndex',\n",
              " 'NA',\n",
              " 'NaT',\n",
              " 'NamedAgg',\n",
              " 'Period',\n",
              " 'PeriodDtype',\n",
              " 'PeriodIndex',\n",
              " 'RangeIndex',\n",
              " 'Series',\n",
              " 'SparseDtype',\n",
              " 'StringDtype',\n",
              " 'Timedelta',\n",
              " 'TimedeltaIndex',\n",
              " 'Timestamp',\n",
              " 'UInt16Dtype',\n",
              " 'UInt32Dtype',\n",
              " 'UInt64Dtype',\n",
              " 'UInt64Index',\n",
              " 'UInt8Dtype',\n",
              " '__builtins__',\n",
              " '__cached__',\n",
              " '__doc__',\n",
              " '__docformat__',\n",
              " '__file__',\n",
              " '__getattr__',\n",
              " '__git_version__',\n",
              " '__loader__',\n",
              " '__name__',\n",
              " '__package__',\n",
              " '__path__',\n",
              " '__spec__',\n",
              " '__version__',\n",
              " '_config',\n",
              " '_hashtable',\n",
              " '_is_numpy_dev',\n",
              " '_lib',\n",
              " '_libs',\n",
              " '_np_version_under1p16',\n",
              " '_np_version_under1p17',\n",
              " '_np_version_under1p18',\n",
              " '_testing',\n",
              " '_tslib',\n",
              " '_typing',\n",
              " '_version',\n",
              " 'api',\n",
              " 'array',\n",
              " 'arrays',\n",
              " 'bdate_range',\n",
              " 'compat',\n",
              " 'concat',\n",
              " 'core',\n",
              " 'crosstab',\n",
              " 'cut',\n",
              " 'date_range',\n",
              " 'describe_option',\n",
              " 'errors',\n",
              " 'eval',\n",
              " 'factorize',\n",
              " 'get_dummies',\n",
              " 'get_option',\n",
              " 'infer_freq',\n",
              " 'interval_range',\n",
              " 'io',\n",
              " 'isna',\n",
              " 'isnull',\n",
              " 'json_normalize',\n",
              " 'lreshape',\n",
              " 'melt',\n",
              " 'merge',\n",
              " 'merge_asof',\n",
              " 'merge_ordered',\n",
              " 'notna',\n",
              " 'notnull',\n",
              " 'offsets',\n",
              " 'option_context',\n",
              " 'options',\n",
              " 'pandas',\n",
              " 'period_range',\n",
              " 'pivot',\n",
              " 'pivot_table',\n",
              " 'plotting',\n",
              " 'qcut',\n",
              " 'read_clipboard',\n",
              " 'read_csv',\n",
              " 'read_excel',\n",
              " 'read_feather',\n",
              " 'read_fwf',\n",
              " 'read_gbq',\n",
              " 'read_hdf',\n",
              " 'read_html',\n",
              " 'read_json',\n",
              " 'read_orc',\n",
              " 'read_parquet',\n",
              " 'read_pickle',\n",
              " 'read_sas',\n",
              " 'read_spss',\n",
              " 'read_sql',\n",
              " 'read_sql_query',\n",
              " 'read_sql_table',\n",
              " 'read_stata',\n",
              " 'read_table',\n",
              " 'reset_option',\n",
              " 'set_eng_float_format',\n",
              " 'set_option',\n",
              " 'show_versions',\n",
              " 'test',\n",
              " 'testing',\n",
              " 'timedelta_range',\n",
              " 'to_datetime',\n",
              " 'to_numeric',\n",
              " 'to_pickle',\n",
              " 'to_timedelta',\n",
              " 'tseries',\n",
              " 'unique',\n",
              " 'util',\n",
              " 'value_counts',\n",
              " 'wide_to_long']"
            ]
          },
          "metadata": {
            "tags": []
          },
          "execution_count": 7
        }
      ]
    },
    {
      "cell_type": "code",
      "metadata": {
        "colab": {
          "base_uri": "https://localhost:8080/"
        },
        "id": "-DcxiyU7V_4V",
        "outputId": "ca885bb7-db83-46fc-ccae-21cbb8155ff5"
      },
      "source": [
        "help(pandas.eval)\n"
      ],
      "execution_count": null,
      "outputs": [
        {
          "output_type": "stream",
          "text": [
            "Help on function eval in module pandas.core.computation.eval:\n",
            "\n",
            "eval(expr, parser='pandas', engine: Union[str, NoneType] = None, truediv=<object object at 0x7f56f7cbed00>, local_dict=None, global_dict=None, resolvers=(), level=0, target=None, inplace=False)\n",
            "    Evaluate a Python expression as a string using various backends.\n",
            "    \n",
            "    The following arithmetic operations are supported: ``+``, ``-``, ``*``,\n",
            "    ``/``, ``**``, ``%``, ``//`` (python engine only) along with the following\n",
            "    boolean operations: ``|`` (or), ``&`` (and), and ``~`` (not).\n",
            "    Additionally, the ``'pandas'`` parser allows the use of :keyword:`and`,\n",
            "    :keyword:`or`, and :keyword:`not` with the same semantics as the\n",
            "    corresponding bitwise operators.  :class:`~pandas.Series` and\n",
            "    :class:`~pandas.DataFrame` objects are supported and behave as they would\n",
            "    with plain ol' Python evaluation.\n",
            "    \n",
            "    Parameters\n",
            "    ----------\n",
            "    expr : str\n",
            "        The expression to evaluate. This string cannot contain any Python\n",
            "        `statements\n",
            "        <https://docs.python.org/3/reference/simple_stmts.html#simple-statements>`__,\n",
            "        only Python `expressions\n",
            "        <https://docs.python.org/3/reference/simple_stmts.html#expression-statements>`__.\n",
            "    parser : {'pandas', 'python'}, default 'pandas'\n",
            "        The parser to use to construct the syntax tree from the expression. The\n",
            "        default of ``'pandas'`` parses code slightly different than standard\n",
            "        Python. Alternatively, you can parse an expression using the\n",
            "        ``'python'`` parser to retain strict Python semantics.  See the\n",
            "        :ref:`enhancing performance <enhancingperf.eval>` documentation for\n",
            "        more details.\n",
            "    engine : {'python', 'numexpr'}, default 'numexpr'\n",
            "    \n",
            "        The engine used to evaluate the expression. Supported engines are\n",
            "    \n",
            "        - None         : tries to use ``numexpr``, falls back to ``python``\n",
            "        - ``'numexpr'``: This default engine evaluates pandas objects using\n",
            "                         numexpr for large speed ups in complex expressions\n",
            "                         with large frames.\n",
            "        - ``'python'``: Performs operations as if you had ``eval``'d in top\n",
            "                        level python. This engine is generally not that useful.\n",
            "    \n",
            "        More backends may be available in the future.\n",
            "    \n",
            "    truediv : bool, optional\n",
            "        Whether to use true division, like in Python >= 3.\n",
            "        deprecated:: 1.0.0\n",
            "    \n",
            "    local_dict : dict or None, optional\n",
            "        A dictionary of local variables, taken from locals() by default.\n",
            "    global_dict : dict or None, optional\n",
            "        A dictionary of global variables, taken from globals() by default.\n",
            "    resolvers : list of dict-like or None, optional\n",
            "        A list of objects implementing the ``__getitem__`` special method that\n",
            "        you can use to inject an additional collection of namespaces to use for\n",
            "        variable lookup. For example, this is used in the\n",
            "        :meth:`~DataFrame.query` method to inject the\n",
            "        ``DataFrame.index`` and ``DataFrame.columns``\n",
            "        variables that refer to their respective :class:`~pandas.DataFrame`\n",
            "        instance attributes.\n",
            "    level : int, optional\n",
            "        The number of prior stack frames to traverse and add to the current\n",
            "        scope. Most users will **not** need to change this parameter.\n",
            "    target : object, optional, default None\n",
            "        This is the target object for assignment. It is used when there is\n",
            "        variable assignment in the expression. If so, then `target` must\n",
            "        support item assignment with string keys, and if a copy is being\n",
            "        returned, it must also support `.copy()`.\n",
            "    inplace : bool, default False\n",
            "        If `target` is provided, and the expression mutates `target`, whether\n",
            "        to modify `target` inplace. Otherwise, return a copy of `target` with\n",
            "        the mutation.\n",
            "    \n",
            "    Returns\n",
            "    -------\n",
            "    ndarray, numeric scalar, DataFrame, Series\n",
            "    \n",
            "    Raises\n",
            "    ------\n",
            "    ValueError\n",
            "        There are many instances where such an error can be raised:\n",
            "    \n",
            "        - `target=None`, but the expression is multiline.\n",
            "        - The expression is multiline, but not all them have item assignment.\n",
            "          An example of such an arrangement is this:\n",
            "    \n",
            "          a = b + 1\n",
            "          a + 2\n",
            "    \n",
            "          Here, there are expressions on different lines, making it multiline,\n",
            "          but the last line has no variable assigned to the output of `a + 2`.\n",
            "        - `inplace=True`, but the expression is missing item assignment.\n",
            "        - Item assignment is provided, but the `target` does not support\n",
            "          string item assignment.\n",
            "        - Item assignment is provided and `inplace=False`, but the `target`\n",
            "          does not support the `.copy()` method\n",
            "    \n",
            "    See Also\n",
            "    --------\n",
            "    DataFrame.query : Evaluates a boolean expression to query the columns\n",
            "            of a frame.\n",
            "    DataFrame.eval : Evaluate a string describing operations on\n",
            "            DataFrame columns.\n",
            "    \n",
            "    Notes\n",
            "    -----\n",
            "    The ``dtype`` of any objects involved in an arithmetic ``%`` operation are\n",
            "    recursively cast to ``float64``.\n",
            "    \n",
            "    See the :ref:`enhancing performance <enhancingperf.eval>` documentation for\n",
            "    more details.\n",
            "    \n",
            "    Examples\n",
            "    --------\n",
            "    >>> df = pd.DataFrame({\"animal\": [\"dog\", \"pig\"], \"age\": [10, 20]})\n",
            "    >>> df\n",
            "      animal  age\n",
            "    0    dog   10\n",
            "    1    pig   20\n",
            "    \n",
            "    We can add a new column using ``pd.eval``:\n",
            "    \n",
            "    >>> pd.eval(\"double_age = df.age * 2\", target=df)\n",
            "      animal  age  double_age\n",
            "    0    dog   10          20\n",
            "    1    pig   20          40\n",
            "\n"
          ],
          "name": "stdout"
        }
      ]
    },
    {
      "cell_type": "markdown",
      "metadata": {
        "id": "7OE25RWUWHT0"
      },
      "source": [
        "# Installing Missing Libraries"
      ]
    },
    {
      "cell_type": "markdown",
      "metadata": {
        "id": "p1cbpO-bgztW"
      },
      "source": [
        "<div>\n",
        "<br/><p><img alt=\"Colaboratory logo\" height=\"45px\" src=\"/img/colab_favicon.ico\" align=\"left\" hspace=\"10px\" vspace=\"0px\"></p>\n",
        "\n",
        "<h1>Importing a library that is not in Colaboratory</h1>\n",
        "<br/></div>\n",
        "\n",
        "\n",
        "To import a library, you can use \n",
        "\n",
        "\n",
        "*   `!pip install Pakage_Name`\n",
        "*   `!apt-get install Package_Name`\n",
        "\n",
        "For more information anout **apt-get** click [here](https://linux.die.net/man/8/apt-get) \n",
        "\n",
        "\n",
        "\n",
        "\n"
      ]
    },
    {
      "cell_type": "code",
      "metadata": {
        "id": "0YCpk5AVhRS4"
      },
      "source": [
        "!pip install matplotlib-venn"
      ],
      "execution_count": null,
      "outputs": []
    },
    {
      "cell_type": "code",
      "metadata": {
        "id": "bDgxZ3vrheKM"
      },
      "source": [
        "!apt-get -qq install -y libfluidsynth1"
      ],
      "execution_count": null,
      "outputs": []
    },
    {
      "cell_type": "code",
      "metadata": {
        "id": "yZYAYUHVv1Z2"
      },
      "source": [
        "!pip show matplotlib-venn"
      ],
      "execution_count": null,
      "outputs": []
    },
    {
      "cell_type": "code",
      "metadata": {
        "id": "4DfglOnihbvL"
      },
      "source": [
        "# To determine which version you're using:\n",
        "!pip show tensorflow\n",
        "\n",
        "# For the current version: \n",
        "!pip install --upgrade tensorflow\n",
        "\n",
        "# For a specific version:\n",
        "!pip install tensorflow==2.1"
      ],
      "execution_count": null,
      "outputs": []
    },
    {
      "cell_type": "markdown",
      "metadata": {
        "id": "fFc-85wmWk1L"
      },
      "source": [
        "# Using Matplotlib"
      ]
    },
    {
      "cell_type": "markdown",
      "metadata": {
        "id": "5sMaHvn3htmc"
      },
      "source": [
        "<div>\n",
        "<br/><p><img alt=\"Colaboratory logo\" height=\"45px\" src=\"/img/colab_favicon.ico\" align=\"left\" hspace=\"10px\" vspace=\"0px\"></p>\n",
        "\n",
        "<h1>Plots\n",
        "</h1>\n",
        "<br/></div>\n",
        "\n"
      ]
    },
    {
      "cell_type": "code",
      "metadata": {
        "id": "8kj1cK6wWTfO"
      },
      "source": [
        "import numpy as np\n",
        "\n",
        "x1=[x for x in range(1,11)]\n",
        "y1= np.random.randint(low=1, high=8 , size=10)\n",
        "x2= np.random.randint(low=1, high=9 , size=10)\n",
        "y2= np.random.randint(low=1, high=6 , size=10)\n",
        "print(x1)\n",
        "print(y1)"
      ],
      "execution_count": null,
      "outputs": []
    },
    {
      "cell_type": "code",
      "metadata": {
        "id": "zRxzCmI4YD8l"
      },
      "source": [
        "import matplotlib.pyplot as plt\n",
        "plt.figure(figsize=(8,6))\n",
        "plt.plot(x1,y1,label=\"Line1\", linewidth=3,linestyle=\"--\" , marker=\"o\" , markersize=10,markerfacecolor =\"lightblue\")\n",
        "plt.plot(x1,y2,label=\"line2\",color=\"red\", linewidth=3,linestyle=\"--\" , marker=\"o\" , markersize=10)\n",
        "plt.legend()\n",
        "plt.title(\"First Chart\")\n",
        "plt.xlabel(\"x value\")\n",
        "plt.ylabel(\"$x=y$\")\n",
        "plt.xticks(x1)\n",
        "plt.grid()\n",
        "plt.show()\n",
        "plt.savefig(\"fig1\")"
      ],
      "execution_count": null,
      "outputs": []
    },
    {
      "cell_type": "code",
      "metadata": {
        "id": "FDvXY6OjZ6PV"
      },
      "source": [
        "plt.bar(x1,y1,label=\"bar1\")\n",
        "plt.bar(x2,y2,label=\"bar2\")\n",
        "plt.legend()\n",
        "plt.title(\"First Chart\")\n",
        "plt.xlabel(\"x value\")\n",
        "plt.ylabel(\"$x=y$\")\n",
        "plt.xticks(x1)\n",
        "plt.grid()\n",
        "plt.show()"
      ],
      "execution_count": null,
      "outputs": []
    },
    {
      "cell_type": "code",
      "metadata": {
        "id": "mMRQtmbcaLgD"
      },
      "source": [
        "plt.scatter(x1,y1)"
      ],
      "execution_count": null,
      "outputs": []
    },
    {
      "cell_type": "code",
      "metadata": {
        "id": "1UjSHbH8aYoc"
      },
      "source": [
        "# load an example dataset\n",
        "from vega_datasets import data\n",
        "cars = data.cars()\n",
        "\n",
        "import altair as alt\n",
        "\n",
        "points = alt.Chart(cars).mark_point().encode(\n",
        "  x='Year:T',\n",
        "  y='Miles_per_Gallon',\n",
        "  color='Origin'\n",
        ").properties(\n",
        "  width=800\n",
        ")\n",
        "\n",
        "lines = alt.Chart(cars).mark_line().encode(\n",
        "  x='Year:T',\n",
        "  y='mean(Miles_per_Gallon)',\n",
        "  color='Origin'\n",
        ").properties(\n",
        "  width=800\n",
        ").interactive(bind_y=False)\n",
        "              \n",
        "points + lines"
      ],
      "execution_count": null,
      "outputs": []
    },
    {
      "cell_type": "markdown",
      "metadata": {
        "id": "_1rxRMNeZG9F"
      },
      "source": [
        "<div>\n",
        "<br/><p><img alt=\"Colaboratory logo\" height=\"45px\" src=\"/img/colab_favicon.ico\" align=\"left\" hspace=\"10px\" vspace=\"0px\"></p>\n",
        "\n",
        "<h1>ploting $z= x^2 + y^2.$</h1>\n",
        "<br/></div>"
      ]
    },
    {
      "cell_type": "code",
      "metadata": {
        "id": "Pa-NaE4RE_wH"
      },
      "source": [
        "import numpy as np\n",
        "\n",
        "a= np.arange(-10,10,0.5)#start from -10 and end at 10  by 0.5 as our step size\n",
        "b= np.arange(-10,10,0.5)\n",
        "\n",
        "print(a.shape)\n",
        "print(a)\n"
      ],
      "execution_count": null,
      "outputs": []
    },
    {
      "cell_type": "code",
      "metadata": {
        "id": "RZZ5SJ5nFJ-7"
      },
      "source": [
        "x, y = np.meshgrid(a,b) \n",
        "print(x.shape)\n",
        "print(x)"
      ],
      "execution_count": null,
      "outputs": []
    },
    {
      "cell_type": "code",
      "metadata": {
        "id": "KzZpClDAF2p6"
      },
      "source": [
        "z= x**2 + y**2\n",
        "print(z)"
      ],
      "execution_count": null,
      "outputs": []
    },
    {
      "cell_type": "markdown",
      "metadata": {
        "id": "rb3E4rscTcHB"
      },
      "source": [
        "<div>\n",
        "<br/><p><img alt=\"Colaboratory logo\" height=\"45px\" src=\"/img/colab_favicon.ico\" align=\"left\" hspace=\"10px\" vspace=\"0px\"></p>\n",
        "\n",
        "<h1>3D plots</h1>\n",
        "<br/></div>"
      ]
    },
    {
      "cell_type": "code",
      "metadata": {
        "id": "JvTuWxg8E--b"
      },
      "source": [
        "import matplotlib.pyplot as plt\n",
        "\n",
        "fig =plt.figure(figsize=(12,8))\n",
        "ax = plt.axes(projection= '3d') \n",
        "surf= ax.plot_surface(x,y,z,cmap=plt.cm.bwr)\n",
        "cset= ax.contourf(x , y , z , zdir='z' , offset= 0 , cmap=plt.cm.rainbow ) \n",
        "fig.colorbar (surf , shrink = 0.5 )\n",
        "plt.show()\n"
      ],
      "execution_count": null,
      "outputs": []
    },
    {
      "cell_type": "markdown",
      "metadata": {
        "id": "i4-nXaMgW6xQ"
      },
      "source": [
        "# Using Pickle"
      ]
    },
    {
      "cell_type": "markdown",
      "metadata": {
        "id": "lEiSHZWZTMCr"
      },
      "source": [
        "<div>\n",
        "<br/><p><img alt=\"Colaboratory logo\" height=\"45px\" src=\"/img/colab_favicon.ico\" align=\"left\" hspace=\"10px\" vspace=\"0px\"></p>\n",
        "\n",
        "<h1>Pickling</h1>\n",
        "<br/></div>"
      ]
    },
    {
      "cell_type": "code",
      "metadata": {
        "id": "HJLoABthbPOI"
      },
      "source": [
        "myobj={\"x\":x, \"y\":y,\"z\":z}\n",
        "\n",
        "import pickle\n",
        "file_out= open(\"FileTest.pickle\", \"wb\")\n",
        "pickle.dump(myobj,file_out)\n",
        "file_out.close()"
      ],
      "execution_count": null,
      "outputs": []
    },
    {
      "cell_type": "code",
      "metadata": {
        "id": "Vsd4Q8Bjbvar"
      },
      "source": [
        "file_in= open(\"FileTest.pickle\", \"rb\")\n",
        "Tempvar =pickle.load(file_in)\n",
        "print(Tempvar)"
      ],
      "execution_count": null,
      "outputs": []
    },
    {
      "cell_type": "markdown",
      "metadata": {
        "id": "4Jewm03hXuZX"
      },
      "source": [
        "<div>\n",
        "<br/><p><img alt=\"Colaboratory logo\" height=\"45px\" src=\"/img/colab_favicon.ico\" align=\"left\" hspace=\"10px\" vspace=\"0px\"></p>\n",
        "\n",
        "<h1>Saving data to Google Drive and Downloading files from it\n",
        "</h1>\n",
        "<br/></div>"
      ]
    },
    {
      "cell_type": "code",
      "metadata": {
        "id": "FLndztuFcHnf"
      },
      "source": [
        "file_out= open(\"/content/drive/MyDrive/__IEEE/FileTestdrive.pickle\", \"wb\")\n",
        "pickle.dump(myobj,file_out)\n",
        "file_out.close()"
      ],
      "execution_count": null,
      "outputs": []
    },
    {
      "cell_type": "code",
      "metadata": {
        "id": "JL3SCeTqcacx"
      },
      "source": [
        "file_in1= open(\"/content/drive/MyDrive/__IEEE/FileTestdrive.pickle\", \"rb\")\n",
        "Tempvar1 =pickle.load(file_in1)\n",
        "print(Tempvar1)"
      ],
      "execution_count": null,
      "outputs": []
    },
    {
      "cell_type": "code",
      "metadata": {
        "id": "GHm8UNvvcgdm"
      },
      "source": [
        "from google.colab import files\n",
        "files.download(\"FileTest.pickle\")"
      ],
      "execution_count": null,
      "outputs": []
    },
    {
      "cell_type": "markdown",
      "metadata": {
        "id": "PG6HmohvXMRZ"
      },
      "source": [
        "#  OpenAI gym"
      ]
    },
    {
      "cell_type": "markdown",
      "metadata": {
        "id": "LbebiC9AVuo2"
      },
      "source": [
        "\n",
        "<div>\n",
        "<br/><p><img alt=\"Colaboratory logo\" height=\"45px\" src=\"/img/colab_favicon.ico\" align=\"left\" hspace=\"10px\" vspace=\"0px\"></p>\n",
        "\n",
        "<h1>Rendering OpenAI Gym Envs on Google Colab\n",
        "\n",
        "</h1>\n",
        "<br/></div>\n",
        "\n",
        "\n",
        "\n"
      ]
    },
    {
      "cell_type": "code",
      "metadata": {
        "id": "aFiu0g7fuo1V"
      },
      "source": [
        "!apt install xvfb -y"
      ],
      "execution_count": null,
      "outputs": []
    },
    {
      "cell_type": "code",
      "metadata": {
        "id": "lZLNnSsIu073"
      },
      "source": [
        "!pip install pyvirtualdisplay"
      ],
      "execution_count": null,
      "outputs": []
    },
    {
      "cell_type": "code",
      "metadata": {
        "id": "v161VCm3u-li"
      },
      "source": [
        "!pip install gym"
      ],
      "execution_count": null,
      "outputs": []
    },
    {
      "cell_type": "code",
      "metadata": {
        "id": "fhKt3VBavYvt"
      },
      "source": [
        "import pyvirtualdisplay\n",
        "display = pyvirtualdisplay.Display(visible=False, size=(1400, 900))\n",
        "display.start()"
      ],
      "execution_count": null,
      "outputs": []
    },
    {
      "cell_type": "code",
      "metadata": {
        "id": "iTW_9CRkKBym"
      },
      "source": [
        "!pip install piglet"
      ],
      "execution_count": null,
      "outputs": []
    },
    {
      "cell_type": "code",
      "metadata": {
        "id": "OP6TRyPoKPZY"
      },
      "source": [
        "import gym\n",
        "from gym.wrappers import Monitor\n",
        "import numpy as np\n",
        "import matplotlib.pyplot as plt\n",
        "import glob\n",
        "import io\n",
        "import base64\n",
        "from IPython.display import HTML\n",
        "\n",
        "from IPython import display as ipythondisplay"
      ],
      "execution_count": null,
      "outputs": []
    },
    {
      "cell_type": "code",
      "metadata": {
        "id": "jJYexIWiKTBx"
      },
      "source": [
        "\"\"\"\n",
        "Utility functions to enable video recording of gym environment and displaying it\n",
        "To enable video, just do \"env = wrap_env(env)\"\"\n",
        "\"\"\"\n",
        "\n",
        "def show_video():\n",
        "  mp4list = glob.glob('video/*.mp4')\n",
        "  if len(mp4list) > 0:\n",
        "    mp4 = mp4list[0]\n",
        "    video = io.open(mp4, 'r+b').read()\n",
        "    encoded = base64.b64encode(video)\n",
        "    ipythondisplay.display(HTML(data='''<video alt=\"test\" autoplay \n",
        "                loop controls style=\"height: 400px;\">\n",
        "                <source src=\"data:video/mp4;base64,{0}\" type=\"video/mp4\" />\n",
        "             </video>'''.format(encoded.decode('ascii'))))\n",
        "  else: \n",
        "    print(\"Could not find video\")\n",
        "    \n",
        "\n",
        "def wrap_env(env):\n",
        "  env = Monitor(env, './video', force=True)\n",
        "  return env"
      ],
      "execution_count": null,
      "outputs": []
    },
    {
      "cell_type": "code",
      "metadata": {
        "id": "jgyp3nKXKZIp"
      },
      "source": [
        "'''CartPole problem use random action'''\n",
        "import gym\n",
        "env = gym.make('CartPole-v0')\n",
        "env = wrap_env(env)  # defined before for rendering online\n",
        "\n",
        "observation = env.reset()\n",
        "    \n",
        "while True:\n",
        "  env.render()\n",
        "  \n",
        "  # your agent goes here\n",
        "  action = env.action_space.sample()   # take a random action\n",
        "  observation, reward, done, info = env.step(action) \n",
        "  print(reward)\n",
        "   \n",
        "  if done: \n",
        "    break;\n",
        "            \n",
        "env.close()\n",
        "show_video()"
      ],
      "execution_count": null,
      "outputs": []
    },
    {
      "cell_type": "markdown",
      "metadata": {
        "id": "0NbeJxqt6A5W"
      },
      "source": [
        "#  OpenAI gym Sample "
      ]
    },
    {
      "cell_type": "code",
      "metadata": {
        "id": "beHJKjoGC4YX"
      },
      "source": [
        "!pip install gym[box2d] "
      ],
      "execution_count": null,
      "outputs": []
    },
    {
      "cell_type": "code",
      "metadata": {
        "id": "px8AtpsfrVYC"
      },
      "source": [
        "import typing\n",
        "\n",
        "import gym\n",
        "import matplotlib.pyplot as plt\n",
        "import numpy as np\n",
        "from IPython import display\n",
        "\n",
        "\n",
        "# represent states as arrays and actions as ints\n",
        "State = np.ndarray\n",
        "Action = int\n",
        "\n",
        "# agent is just a function! \n",
        "Agent = typing.Callable[[State], Action]\n",
        "\n",
        "\n",
        "def uniform_random_policy(state: State,\n",
        "                          number_actions: int,\n",
        "                          random_state: np.random.RandomState) -> Action:\n",
        "    \"\"\"Select an action at random from the set of feasible actions.\"\"\"\n",
        "    feasible_actions = np.arange(number_actions)\n",
        "    probs = np.ones(number_actions) / number_actions\n",
        "    action = random_state.choice(feasible_actions, p=probs)\n",
        "    return action\n",
        "\n",
        "\n",
        "def make_random_agent(number_actions: int,\n",
        "                      random_state: np.random.RandomState = None) -> Agent:\n",
        "    \"\"\"Factory for creating an Agent.\"\"\"\n",
        "    _random_state = np.random.RandomState() if random_state is None else random_state\n",
        "    return lambda state: uniform_random_policy(state, number_actions, _random_state)\n",
        "\n",
        "\n",
        "def simulate(agent: Agent, env: gym.Env, ax: plt.Axes) -> None:\n",
        "    state = env.reset()\n",
        "    img = ax.imshow(env.render(mode='rgb_array'))\n",
        "    done = False\n",
        "    while not done:\n",
        "        action = agent(state)\n",
        "        img.set_data(env.render(mode='rgb_array')) \n",
        "        ax.axis('off')\n",
        "        display.display(plt.gcf())\n",
        "        display.clear_output(wait=True)\n",
        "        state, reward, done, _ = env.step(action)       \n",
        "    env.close()\n",
        "    \n",
        "# create the Gym environment\n",
        "lunar_lander_v2 = gym.make('LunarLander-v2')\n",
        "a1 = lunar_lander_v2.seed(42)\n",
        "\n",
        "# create an agent\n",
        "random_agent = make_random_agent(lunar_lander_v2.action_space.n, random_state=None)\n",
        "\n",
        "# simulate agent interacting with the environment\n",
        "a1, ax = plt.subplots(1, 1)\n",
        "simulate(random_agent, lunar_lander_v2, ax)"
      ],
      "execution_count": null,
      "outputs": []
    },
    {
      "cell_type": "markdown",
      "metadata": {
        "id": "7goBU4xjXiou"
      },
      "source": [
        "# Forms & Tables"
      ]
    },
    {
      "cell_type": "markdown",
      "metadata": {
        "id": "7y3CNeDqhgEr"
      },
      "source": [
        "<div>\n",
        "<br/><p><img alt=\"Colaboratory logo\" height=\"45px\" src=\"/img/colab_favicon.ico\" align=\"left\" hspace=\"10px\" vspace=\"0px\"></p>\n",
        "\n",
        "<h1>Interactive Forms</h1>\n",
        "<br/></div>\n",
        "\n",
        " \n",
        "\n",
        "\n",
        "*   easy way to parameterize code\n",
        "*   From a code cell, select Insert → Add form field.\n",
        "\n"
      ]
    },
    {
      "cell_type": "code",
      "metadata": {
        "id": "5wlJIhk3hfHt"
      },
      "source": [
        "#@title String fields\n",
        "\n",
        "Full_Name = 'Faye Satari' #@param {type:\"string\"}\n",
        "Degree = 'PHD' #@param [\"Master\", \"PHD\"]\n",
        "Position = 'Website Director' #@param [\"Chair\", \"Vice-Chair\", \"Website Director\"] {allow-input: true}\n",
        "Ieee_Section = \"Ottawa\" #@param [\"Montreal\", \"Ottawa\",\"Toronto\"]\n"
      ],
      "execution_count": null,
      "outputs": []
    },
    {
      "cell_type": "code",
      "metadata": {
        "id": "uXQvHDiEYOKM"
      },
      "source": [
        "print(Full_Name)\n",
        "print(Degree)\n",
        "print(Position)\n",
        "print(Ieee_Section)"
      ],
      "execution_count": null,
      "outputs": []
    },
    {
      "cell_type": "code",
      "metadata": {
        "id": "dohH0ILnXCLB"
      },
      "source": [
        "from google.colab import data_table\n",
        "from vega_datasets import data\n",
        "\n",
        "data_table.DataTable(data.airports())\n"
      ],
      "execution_count": null,
      "outputs": []
    }
  ]
}